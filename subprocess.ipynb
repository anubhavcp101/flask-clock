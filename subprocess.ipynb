{
 "cells": [
  {
   "cell_type": "markdown",
   "id": "652cce98-0319-4945-8447-297d5b5c9da5",
   "metadata": {},
   "source": [
    "## subprocess Module\n",
    "\n",
    "* it is help in running bash and powershell scripts\n",
    "* it can catpure the script output for further processing"
   ]
  },
  {
   "cell_type": "code",
   "execution_count": 7,
   "id": "2afb68b6-0722-41bf-a973-659da7d5056b",
   "metadata": {},
   "outputs": [
    {
     "data": {
      "text/plain": [
       "CompletedProcess(args='ls -al', returncode=1)"
      ]
     },
     "execution_count": 7,
     "metadata": {},
     "output_type": "execute_result"
    }
   ],
   "source": [
    "import subprocess\n",
    "\n",
    "subprocess.run('ls -al', shell=True)"
   ]
  },
  {
   "cell_type": "code",
   "execution_count": 10,
   "id": "4403fc20-62b9-4381-b522-c9831d8c57e1",
   "metadata": {},
   "outputs": [
    {
     "data": {
      "text/plain": [
       "CompletedProcess(args=['wsl', 'ls', '-al'], returncode=0)"
      ]
     },
     "execution_count": 10,
     "metadata": {},
     "output_type": "execute_result"
    }
   ],
   "source": [
    "# try to avoid shell=True whenever possible\n",
    "subprocess.run(['wsl','ls','-al'])"
   ]
  },
  {
   "cell_type": "code",
   "execution_count": 11,
   "id": "c8bc195c-6bcb-4e0c-86fa-68f618a9d619",
   "metadata": {},
   "outputs": [
    {
     "name": "stdout",
     "output_type": "stream",
     "text": [
      "['wsl', 'ls', '-la']\n",
      "0\n"
     ]
    }
   ],
   "source": [
    "# To capture standard output (stdout)\n",
    "\n",
    "myProcess = subprocess.run(['wsl','ls','-la'])\n",
    "\n",
    "# To check arguments which is passed to original command\n",
    "print(myProcess.args)\n",
    "\n",
    "# We have return code to check if we got any error or not\n",
    "print(myProcess.returncode)"
   ]
  },
  {
   "cell_type": "code",
   "execution_count": 12,
   "id": "dc17ef0c-2a42-4c77-91eb-ad3e32b9d974",
   "metadata": {},
   "outputs": [
    {
     "name": "stdout",
     "output_type": "stream",
     "text": [
      "['wsl', 'ls', '-la']\n"
     ]
    }
   ],
   "source": [
    "# To check arguments which is passed to original command\n",
    "print(myProcess.args)"
   ]
  },
  {
   "cell_type": "code",
   "execution_count": 13,
   "id": "9a0809d4-d5d7-4f8b-b75a-2289242f3868",
   "metadata": {},
   "outputs": [
    {
     "name": "stdout",
     "output_type": "stream",
     "text": [
      "0\n"
     ]
    }
   ],
   "source": [
    "# We have return code to check if we got any error or not\n",
    "# zero return code means no error and non-zero means there is some error and which can check it\n",
    "print(myProcess.returncode)"
   ]
  },
  {
   "cell_type": "code",
   "execution_count": 14,
   "id": "378d747a-b45e-4a7d-b809-228e48aa99f8",
   "metadata": {},
   "outputs": [
    {
     "name": "stdout",
     "output_type": "stream",
     "text": [
      "None\n"
     ]
    }
   ],
   "source": [
    "# To grab the standard output\n",
    "print(myProcess.stdout)\n",
    "# but gives None"
   ]
  },
  {
   "cell_type": "code",
   "execution_count": 16,
   "id": "1b0e8c1c-fe30-419e-a09a-fc77f49b1e3a",
   "metadata": {},
   "outputs": [
    {
     "name": "stdout",
     "output_type": "stream",
     "text": [
      "b'total 24\\ndrwxrwxrwx 1 yashwant yashwant  4096 Dec  7 10:38 .\\ndrwxrwxrwx 1 yashwant yashwant  4096 Dec  6 23:35 ..\\ndrwxrwxrwx 1 yashwant yashwant  4096 Dec  7 10:24 .ipynb_checkpoints\\ndrwxrwxrwx 1 yashwant yashwant  4096 Dec  6 23:39 .venv\\n-rwxrwxrwx 1 yashwant yashwant 16527 Dec  7 04:03 NewNotebook.ipynb\\n-rwxrwxrwx 1 yashwant yashwant  2472 Dec  7 10:38 Untitled.ipynb\\n'\n"
     ]
    }
   ],
   "source": [
    "# To capture we need to pass another argument i.e capture_output=True while running it\n",
    "myProcess2 = subprocess.run(['wsl','ls','-la'], capture_output=True)\n",
    "\n",
    "print(myProcess2.stdout)\n",
    "\n",
    "# but it returns in bytes and we can decode it "
   ]
  },
  {
   "cell_type": "code",
   "execution_count": 17,
   "id": "d835b684-f582-4679-b9b8-e26d599c88c4",
   "metadata": {},
   "outputs": [
    {
     "name": "stdout",
     "output_type": "stream",
     "text": [
      "total 24\n",
      "drwxrwxrwx 1 yashwant yashwant  4096 Dec  7 10:38 .\n",
      "drwxrwxrwx 1 yashwant yashwant  4096 Dec  6 23:35 ..\n",
      "drwxrwxrwx 1 yashwant yashwant  4096 Dec  7 10:24 .ipynb_checkpoints\n",
      "drwxrwxrwx 1 yashwant yashwant  4096 Dec  6 23:39 .venv\n",
      "-rwxrwxrwx 1 yashwant yashwant 16527 Dec  7 04:03 NewNotebook.ipynb\n",
      "-rwxrwxrwx 1 yashwant yashwant  2472 Dec  7 10:38 Untitled.ipynb\n",
      "\n"
     ]
    }
   ],
   "source": [
    "# but it returns in bytes and we can decode it \n",
    "print(myProcess2.stdout.decode())"
   ]
  },
  {
   "cell_type": "code",
   "execution_count": 19,
   "id": "c773d696-807b-47df-8d3b-9f198a64eec5",
   "metadata": {},
   "outputs": [
    {
     "name": "stdout",
     "output_type": "stream",
     "text": [
      "total 28\n",
      "drwxrwxrwx 1 yashwant yashwant  4096 Dec  7 10:40 .\n",
      "drwxrwxrwx 1 yashwant yashwant  4096 Dec  6 23:35 ..\n",
      "drwxrwxrwx 1 yashwant yashwant  4096 Dec  7 10:24 .ipynb_checkpoints\n",
      "drwxrwxrwx 1 yashwant yashwant  4096 Dec  6 23:39 .venv\n",
      "-rwxrwxrwx 1 yashwant yashwant 16527 Dec  7 04:03 NewNotebook.ipynb\n",
      "-rwxrwxrwx 1 yashwant yashwant  5654 Dec  7 10:40 Untitled.ipynb\n",
      "\n"
     ]
    }
   ],
   "source": [
    "# and another way is passing an argument to run method asking it as text\n",
    "myProcess3 = subprocess.run(['wsl','ls','-la'], capture_output=True, text=True)\n",
    "\n",
    "print(myProcess3.stdout)"
   ]
  },
  {
   "cell_type": "code",
   "execution_count": 20,
   "id": "3df91109-1d88-4ad9-bd27-bf51a9583fad",
   "metadata": {},
   "outputs": [
    {
     "name": "stdout",
     "output_type": "stream",
     "text": [
      "total 28\n",
      "drwxrwxrwx 1 yashwant yashwant  4096 Dec  7 10:40 .\n",
      "drwxrwxrwx 1 yashwant yashwant  4096 Dec  6 23:35 ..\n",
      "drwxrwxrwx 1 yashwant yashwant  4096 Dec  7 10:24 .ipynb_checkpoints\n",
      "drwxrwxrwx 1 yashwant yashwant  4096 Dec  6 23:39 .venv\n",
      "-rwxrwxrwx 1 yashwant yashwant 16527 Dec  7 04:03 NewNotebook.ipynb\n",
      "-rwxrwxrwx 1 yashwant yashwant  5654 Dec  7 10:40 Untitled.ipynb\n",
      "\n"
     ]
    }
   ],
   "source": [
    "# and similar way is \n",
    "myProcess3 = subprocess.run(['wsl','ls','-la'], stdout=subprocess.PIPE, text=True)\n",
    "\n",
    "print(myProcess3.stdout)"
   ]
  },
  {
   "cell_type": "code",
   "execution_count": 21,
   "id": "27d12ec5-e81e-4209-97ed-13598e92ee6e",
   "metadata": {},
   "outputs": [
    {
     "data": {
      "text/plain": [
       "CompletedProcess(args=['wsl', 'cat', 'output.txt'], returncode=0)"
      ]
     },
     "execution_count": 21,
     "metadata": {},
     "output_type": "execute_result"
    }
   ],
   "source": [
    "# to redirect stdout to a file\n",
    "with open('output.txt','w',encoding='utf-8') as fileObj:\n",
    "    someProcess = subprocess.run(['wsl','ls','-la'], stdout=fileObj, text=True)\n",
    "\n",
    "# this is to show file content\n",
    "subprocess.run(['wsl','cat','output.txt'])\n",
    "    "
   ]
  },
  {
   "cell_type": "code",
   "execution_count": 22,
   "id": "d2e52f4d-49d5-4111-ab47-63229ba9e760",
   "metadata": {},
   "outputs": [
    {
     "name": "stdout",
     "output_type": "stream",
     "text": [
      "ls: cannot access 'dne': No such file or directory\n",
      "\n",
      "The return code: 2\n"
     ]
    }
   ],
   "source": [
    "failProcess = subprocess.run(['wsl','ls','-la','dne'],capture_output=True,text=True)\n",
    "# To print the error\n",
    "print(failProcess.stderr)\n",
    "\n",
    "# it doesn't throw any error rather it gives non-zero return code\n",
    "print('The return code:',failProcess.returncode)"
   ]
  },
  {
   "cell_type": "code",
   "execution_count": 28,
   "id": "e467434d-e625-40b8-93ef-7487d3999995",
   "metadata": {},
   "outputs": [
    {
     "name": "stdout",
     "output_type": "stream",
     "text": [
      "There is some error\n",
      "ls: cannot access 'dne': No such file or directory\n",
      "\n"
     ]
    }
   ],
   "source": [
    "# if you want to proceed only if earlier command succeeded then you can return code \n",
    "\n",
    "if failProcess.returncode != 0:\n",
    "    print('There is some error')\n",
    "    print(failProcess.stderr)\n",
    "else:\n",
    "    print('Its successful')\n"
   ]
  },
  {
   "cell_type": "code",
   "execution_count": 24,
   "id": "bd9ee179-e2a1-4ce9-9a8b-aae31d400834",
   "metadata": {},
   "outputs": [
    {
     "ename": "CalledProcessError",
     "evalue": "Command '['wsl', 'ls', '-la', 'dne']' returned non-zero exit status 2.",
     "output_type": "error",
     "traceback": [
      "\u001b[1;31m---------------------------------------------------------------------------\u001b[0m",
      "\u001b[1;31mCalledProcessError\u001b[0m                        Traceback (most recent call last)",
      "Cell \u001b[1;32mIn[24], line 4\u001b[0m\n\u001b[0;32m      1\u001b[0m \u001b[38;5;66;03m# another way would be setting check=True with run method and then it will throw error \u001b[39;00m\n\u001b[0;32m      2\u001b[0m \u001b[38;5;66;03m# and won't proceed further\u001b[39;00m\n\u001b[1;32m----> 4\u001b[0m failProcess2 \u001b[38;5;241m=\u001b[39m \u001b[43msubprocess\u001b[49m\u001b[38;5;241;43m.\u001b[39;49m\u001b[43mrun\u001b[49m\u001b[43m(\u001b[49m\u001b[43m[\u001b[49m\u001b[38;5;124;43m'\u001b[39;49m\u001b[38;5;124;43mwsl\u001b[39;49m\u001b[38;5;124;43m'\u001b[39;49m\u001b[43m,\u001b[49m\u001b[38;5;124;43m'\u001b[39;49m\u001b[38;5;124;43mls\u001b[39;49m\u001b[38;5;124;43m'\u001b[39;49m\u001b[43m,\u001b[49m\u001b[38;5;124;43m'\u001b[39;49m\u001b[38;5;124;43m-la\u001b[39;49m\u001b[38;5;124;43m'\u001b[39;49m\u001b[43m,\u001b[49m\u001b[38;5;124;43m'\u001b[39;49m\u001b[38;5;124;43mdne\u001b[39;49m\u001b[38;5;124;43m'\u001b[39;49m\u001b[43m]\u001b[49m\u001b[43m,\u001b[49m\u001b[43mcapture_output\u001b[49m\u001b[38;5;241;43m=\u001b[39;49m\u001b[38;5;28;43;01mTrue\u001b[39;49;00m\u001b[43m,\u001b[49m\u001b[43mtext\u001b[49m\u001b[38;5;241;43m=\u001b[39;49m\u001b[38;5;28;43;01mTrue\u001b[39;49;00m\u001b[43m,\u001b[49m\u001b[43m \u001b[49m\u001b[43mcheck\u001b[49m\u001b[38;5;241;43m=\u001b[39;49m\u001b[38;5;28;43;01mTrue\u001b[39;49;00m\u001b[43m)\u001b[49m\n\u001b[0;32m      5\u001b[0m \u001b[38;5;66;03m# below is intended error to demostrate\u001b[39;00m\n",
      "File \u001b[1;32m~\\AppData\\Local\\Programs\\Python\\Python312\\Lib\\subprocess.py:571\u001b[0m, in \u001b[0;36mrun\u001b[1;34m(input, capture_output, timeout, check, *popenargs, **kwargs)\u001b[0m\n\u001b[0;32m    569\u001b[0m     retcode \u001b[38;5;241m=\u001b[39m process\u001b[38;5;241m.\u001b[39mpoll()\n\u001b[0;32m    570\u001b[0m     \u001b[38;5;28;01mif\u001b[39;00m check \u001b[38;5;129;01mand\u001b[39;00m retcode:\n\u001b[1;32m--> 571\u001b[0m         \u001b[38;5;28;01mraise\u001b[39;00m CalledProcessError(retcode, process\u001b[38;5;241m.\u001b[39margs,\n\u001b[0;32m    572\u001b[0m                                  output\u001b[38;5;241m=\u001b[39mstdout, stderr\u001b[38;5;241m=\u001b[39mstderr)\n\u001b[0;32m    573\u001b[0m \u001b[38;5;28;01mreturn\u001b[39;00m CompletedProcess(process\u001b[38;5;241m.\u001b[39margs, retcode, stdout, stderr)\n",
      "\u001b[1;31mCalledProcessError\u001b[0m: Command '['wsl', 'ls', '-la', 'dne']' returned non-zero exit status 2."
     ]
    }
   ],
   "source": [
    "# another way would be setting check=True with run method and then it will throw error \n",
    "# and won't proceed further\n",
    "\n",
    "failProcess2 = subprocess.run(['wsl','ls','-la','dne'],capture_output=True,text=True, check=True)\n",
    "# below is intended error to demostrate\n"
   ]
  },
  {
   "cell_type": "code",
   "execution_count": 29,
   "id": "f63b9045-1200-44d6-a665-e7da969ff1d2",
   "metadata": {},
   "outputs": [],
   "source": [
    "# you can ignore them by redirectng them to /dev/null and remove check=True argument\n",
    "\n",
    "failProcess2 = subprocess.run(['wsl','ls','-la','dne'],stderr=subprocess.DEVNULL,text=True)"
   ]
  },
  {
   "cell_type": "code",
   "execution_count": 30,
   "id": "b3caae16-6abe-4feb-a5af-b83e3ed9ffb0",
   "metadata": {},
   "outputs": [
    {
     "name": "stdout",
     "output_type": "stream",
     "text": [
      "6:-rwxrwxrwx 1 yashwant yashwant 16527 Dec  7 04:03 NewNotebook.ipynb\n",
      "\n"
     ]
    }
   ],
   "source": [
    "# to capture output from one command and make it input of another command\n",
    "# to demostrate this we should already have a output.txt file and we will look \n",
    "# for word 'Notebook' in it.\n",
    "inputProcess = subprocess.run(['wsl','cat','output.txt'],capture_output=True,text=True)\n",
    "\n",
    "outputProces = subprocess.run(\n",
    "    ['wsl','grep','-n','Notebook'],\n",
    "    capture_output=True,\n",
    "    text=True,\n",
    "    input=inputProcess.stdout\n",
    ")\n",
    "\n",
    "print(outputProces.stdout)"
   ]
  },
  {
   "cell_type": "code",
   "execution_count": null,
   "id": "550ecd12-217e-4029-a97f-cb10dc11cfb7",
   "metadata": {},
   "outputs": [],
   "source": []
  }
 ],
 "metadata": {
  "kernelspec": {
   "display_name": "Python 3 (ipykernel)",
   "language": "python",
   "name": "python3"
  },
  "language_info": {
   "codemirror_mode": {
    "name": "ipython",
    "version": 3
   },
   "file_extension": ".py",
   "mimetype": "text/x-python",
   "name": "python",
   "nbconvert_exporter": "python",
   "pygments_lexer": "ipython3",
   "version": "3.12.6"
  }
 },
 "nbformat": 4,
 "nbformat_minor": 5
}

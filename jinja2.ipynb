{
 "cells": [
  {
   "cell_type": "markdown",
   "id": "55bd1a4c-3a30-4c73-8e1b-99bddd2d06eb",
   "metadata": {},
   "source": [
    "## Jinja2 Module\n",
    "\n",
    "* it is a template engine which could be used to dynamically generate docs but mostly used with html\n",
    "* it is used with flask and django\n",
    "* but you can use simple text file to dynamically generate files\n",
    "* it needs a environment to work on.\n",
    "* that environment will help to get a template object and after that rendering required content"
   ]
  },
  {
   "cell_type": "code",
   "execution_count": 6,
   "id": "80165d79-d84c-4874-b390-e8b73c05e1bd",
   "metadata": {},
   "outputs": [
    {
     "name": "stdout",
     "output_type": "stream",
     "text": [
      "Overwriting template.html\n"
     ]
    }
   ],
   "source": [
    "%%writefile template.html\n",
    "<!DOCTYPE html>\n",
    "<html>\n",
    "<head>\n",
    "    <title>Jinja2 Template</title>\n",
    "</head>\n",
    "<body>\n",
    "    <h1>Hello, {{ name }}!</h1>\n",
    "    <p>You are {{ age }} years old.</p>\n",
    "</body>\n",
    "</html>"
   ]
  },
  {
   "cell_type": "code",
   "execution_count": 2,
   "id": "c8190786-8d6c-4981-8122-1acd3dcbabb2",
   "metadata": {},
   "outputs": [
    {
     "name": "stdout",
     "output_type": "stream",
     "text": [
      "<!DOCTYPE html>\n",
      "<html>\n",
      "<head>\n",
      "    <title>Jinja2 Template</title>\n",
      "</head>\n",
      "<body>\n",
      "    <h1>Hello, Alice!</h1>\n",
      "    <p>You are 30 years old.</p>\n",
      "</body>\n",
      "</html>\n"
     ]
    }
   ],
   "source": [
    "from jinja2 import Environment, FileSystemLoader\n",
    "\n",
    "env = Environment(loader=FileSystemLoader('.'))\n",
    "template = env.get_template('template.html')\n",
    "\n",
    "# Define variables\n",
    "name = 'Alice'\n",
    "age = 30\n",
    "\n",
    "# Render the template with variables\n",
    "output = template.render(name=name, age=age)\n",
    "\n",
    "print(output)"
   ]
  },
  {
   "cell_type": "code",
   "execution_count": 3,
   "id": "8b8ded76-2f03-4f6a-a5ca-7a9c9fa826b8",
   "metadata": {},
   "outputs": [
    {
     "name": "stdout",
     "output_type": "stream",
     "text": [
      "Writing template2.html\n"
     ]
    }
   ],
   "source": [
    "%%writefile template2.html\n",
    "<!DOCTYPE html>\n",
    "<html>\n",
    "<head>\n",
    "    <title> {{ funActivity }} </title>\n",
    "</head>\n",
    "<body>\n",
    "    <table>\n",
    " <thead>\n",
    " {% for heading in headings %}\n",
    "     <th>{{ heading}}</th>\n",
    " {% endfor %}\n",
    " </thead>\n",
    " {% for row in data %}\n",
    "     <tr>\n",
    "     <td>{{row.name}}</td>\n",
    "     <td>{{row.score}}</td>\n",
    "     <td>{{row.challenge}}</td>\n",
    "     {% if row.score >90 %}\n",
    "        <td> you have score over 90% in the {{ row.challenge }} challenge.</td>\n",
    "    {% elif row.score >80 %}\n",
    "        <td> you have score over 80% in the {{ row.challenge }} challenge.</td>\n",
    "    {% else %}\n",
    "        <td> you have score over 70% in the {{ row.challenge }} challenge.</td>\n",
    "    {% endif %}\n",
    "     </tr>\n",
    "{% endfor %}\n",
    " </table>\n",
    "</body>\n",
    "</html>"
   ]
  },
  {
   "cell_type": "code",
   "execution_count": 9,
   "id": "4a69c834-5e0e-4b6a-9b50-dce005cbf410",
   "metadata": {},
   "outputs": [
    {
     "name": "stdout",
     "output_type": "stream",
     "text": [
      "<!DOCTYPE html>\n",
      "<html>\n",
      "<head>\n",
      "    <title> The Cofun Challenge </title>\n",
      "</head>\n",
      "<body>\n",
      "    <table>\n",
      " <thead>\n",
      " \n",
      "     <th>Name</th>\n",
      " \n",
      "     <th>Score</th>\n",
      " \n",
      "     <th>Challenge</th>\n",
      " \n",
      "     <th>Comment</th>\n",
      " \n",
      " </thead>\n",
      " \n",
      "     <tr>\n",
      "     <td>Jane</td>\n",
      "     <td>90</td>\n",
      "     <td>Python</td>\n",
      "     \n",
      "        <td> you have score over 80% in the Python challenge.</td>\n",
      "    \n",
      "     </tr>\n",
      "\n",
      "     <tr>\n",
      "     <td>John</td>\n",
      "     <td>81</td>\n",
      "     <td>Bash</td>\n",
      "     \n",
      "        <td> you have score over 80% in the Bash challenge.</td>\n",
      "    \n",
      "     </tr>\n",
      "\n",
      "     <tr>\n",
      "     <td>Mary</td>\n",
      "     <td>83</td>\n",
      "     <td>Jinja</td>\n",
      "     \n",
      "        <td> you have score over 80% in the Jinja challenge.</td>\n",
      "    \n",
      "     </tr>\n",
      "\n",
      "     <tr>\n",
      "     <td>Popper</td>\n",
      "     <td>84</td>\n",
      "     <td>DevOps</td>\n",
      "     \n",
      "        <td> you have score over 80% in the DevOps challenge.</td>\n",
      "    \n",
      "     </tr>\n",
      "\n",
      "     <tr>\n",
      "     <td>Dave</td>\n",
      "     <td>74</td>\n",
      "     <td>Powershell</td>\n",
      "     \n",
      "        <td> you have score over 70% in the Powershell challenge.</td>\n",
      "    \n",
      "     </tr>\n",
      "\n",
      " </table>\n",
      "</body>\n",
      "</html>\n"
     ]
    }
   ],
   "source": [
    "template2 = env.get_template('template2.html')\n",
    "\n",
    "headings = [\"Name\",\"Score\",\"Challenge\", \"Comment\"]\n",
    "funActivity = \"The Cofun Challenge\"\n",
    "\n",
    "participants = [\n",
    "    {\"name\": \"Jane\", \"score\": 90, \"challenge\": \"Python\"},\n",
    "    {\"name\": \"John\", \"score\": 81, \"challenge\": \"Bash\"},\n",
    "    {\"name\": \"Mary\", \"score\": 83, \"challenge\": \"Jinja\"},\n",
    "    {\"name\": \"Popper\", \"score\": 84, \"challenge\": \"DevOps\"},\n",
    "    {\"name\": \"Dave\", \"score\": 74, \"challenge\": \"Powershell\"},\n",
    "]\n",
    "\n",
    "# Render the template with variables\n",
    "output = template2.render( funActivity=funActivity, headings = headings, data = participants)\n",
    "\n",
    "print(output)"
   ]
  },
  {
   "cell_type": "code",
   "execution_count": 10,
   "id": "8c151683-97af-42f0-9ec7-22bafa92893c",
   "metadata": {},
   "outputs": [
    {
     "name": "stdout",
     "output_type": "stream",
     "text": [
      "Writing exampleMacro.txt\n"
     ]
    }
   ],
   "source": [
    "%%writefile exampleMacro.txt\n",
    "\n",
    "{% macro foo(data) %}\n",
    "    {% for row in data %}\n",
    "        {{row.name }} is a {{row.type}} game\n",
    "    {% endfor %}\n",
    "{% endmacro %}"
   ]
  },
  {
   "cell_type": "code",
   "execution_count": 11,
   "id": "d95a5a3b-386e-4cd9-849f-d74143348830",
   "metadata": {},
   "outputs": [
    {
     "name": "stdout",
     "output_type": "stream",
     "text": [
      "Writing testingMacros.txt\n"
     ]
    }
   ],
   "source": [
    "%%writefile testingMacros.txt\n",
    "\n",
    "{# Macros Testing #}\n",
    "{% import 'exampleMacro.txt' as exampleMacro with context %}\n",
    "{{ exampleMacro.foo(data) }}\n"
   ]
  },
  {
   "cell_type": "code",
   "execution_count": 12,
   "id": "6322f138-f348-4676-9aa7-c6bad7ea0b64",
   "metadata": {},
   "outputs": [
    {
     "name": "stdout",
     "output_type": "stream",
     "text": [
      "\n",
      "\n",
      "\n",
      "\n",
      "    \n",
      "        Badminton is a outdoor game\n",
      "    \n",
      "        Chess is a indoor game\n",
      "    \n",
      "        Cricket is a outdoor game\n",
      "    \n",
      "        FootBall is a outdoor game\n",
      "    \n",
      "        Table Tennis is a indoor game\n",
      "    \n",
      "\n"
     ]
    }
   ],
   "source": [
    "templateM = env.get_template('testingMacros.txt')\n",
    "\n",
    "data = [\n",
    "    {'name': 'Badminton', 'type':'outdoor',},\n",
    "    {'name': 'Chess', 'type':'indoor',},\n",
    "    {'name': 'Cricket', 'type':'outdoor',},\n",
    "    {'name': 'FootBall', 'type':'outdoor',},\n",
    "    {'name': 'Table Tennis', 'type':'indoor',}\n",
    "]\n",
    "\n",
    "content = templateM.render(data=data)\n",
    "\n",
    "print(content)"
   ]
  },
  {
   "cell_type": "code",
   "execution_count": 13,
   "id": "55bb8411-e3f7-4b8a-b2e5-966c982de50f",
   "metadata": {},
   "outputs": [
    {
     "name": "stdout",
     "output_type": "stream",
     "text": [
      "Writing baseTemplate.txt\n"
     ]
    }
   ],
   "source": [
    "%%writefile baseTemplate.txt\n",
    "The Title - {% block title%} {% endblock %}\n",
    "Right now, dark energy is just the name that astronomers gave to the mysterious \"something\" that is causing the\n",
    " universe to expand at an accelerated rate.\n",
    "{% block startingPara%} {%endblock startingPara%}\n",
    "{% block moreContent%} {% endblock moreContent%}\n",
    "{% block conclusion %} {% endblock conclusion%}\n",
    "{% include 'includingTemplate.txt' with context %} "
   ]
  },
  {
   "cell_type": "code",
   "execution_count": 14,
   "id": "c226162e-b5f4-4f97-ae7a-f1530ff3532a",
   "metadata": {},
   "outputs": [
    {
     "name": "stdout",
     "output_type": "stream",
     "text": [
      "Writing childTemplate.txt\n"
     ]
    }
   ],
   "source": [
    "%%writefile childTemplate.txt\n",
    "{% extends \"baseTemplate.txt\" %}\n",
    "{% block title %}\n",
    "What is Dark Energy\n",
    "{% endblock title %}\n",
    "{% block startingPara %}\n",
    "Dark energy has been described by some as having the effect of a negative pressure that is pushing space outward. However, we don't know if dark energy has the effect of any type of force at all. There are many ideas floating around about what dark energy could possibly be. Here are four leading explanations for dark energy. Keep in mind that it's possible it's something else entirely.\n",
    "{% endblock startingPara %}\n",
    "{% block moreContent %}\n",
    "Some scientists think that dark energy is a fundamental, ever-present background energy in space known as vacuum energy, which could be equal to the cosmological constant, a mathematical term in the equations of Einstein's theory of general relativity. Originally, the constant existed to counterbalance gravity, resulting in a static universe. But when Hubble confirmed that the universe was actually expanding, Einstein removed the constant, calling it “my biggest blunder,” according to physicist George Gamow.\n",
    "{% endblock moreContent %}\n",
    "{% block conclusion %}\n",
    "While this theory has been a popular topic of discussion, scientists investigating this option have calculated how much vacuum energy there should theoretically be in space. They showed that there should either be so much vacuum energy that, at the very beginning, the universe would have expanded outwards so quickly and with so much force that no stars or galaxies could have formed, or… there should be absolutely none. This means that the amount of vacuum energy in the cosmos must be much smaller than it is in these predictions. However, this discrepancy has yet to be solved and has even earned the moniker \"the cosmological constant problem.\"\n",
    "{#  {% include 'includingTemplate.txt' with context %} #}\n",
    "{% endblock conclusion %}\n",
    "{# include tag in jinja2 docs https://jinja.palletsprojects.com/en/stable/templates/#include #}\n",
    "{# Don't use include jinja tag in child template rather use in base template and in case you need in child Template then put it in inside some block #}"
   ]
  },
  {
   "cell_type": "code",
   "execution_count": 15,
   "id": "e1afb40d-c741-4006-86e8-965d4c4ef0ac",
   "metadata": {},
   "outputs": [
    {
     "name": "stdout",
     "output_type": "stream",
     "text": [
      "Writing includingTemplate.txt\n"
     ]
    }
   ],
   "source": [
    "%%writefile includingTemplate.txt\n",
    "{% raw %}\n",
    "-------------------------------------------------\n",
    "White Spaces in Jinja2 \n",
    "========================\n",
    "You can also strip whitespace in templates by hand. If you add a minus sign (-) to the start or end of a block (e.g. a For tag), a comment, or a variable expression, the whitespaces before or after that block will be removed:\n",
    "\n",
    "{% for item in seq -%}\n",
    "    {{ item }}\n",
    "{%- endfor %}\n",
    "This will yield all elements without whitespace between them. If seq was a list of numbers from 1 to 9, the output would be 123456789.\n",
    "\n",
    "If Line Statements are enabled, they strip leading whitespace automatically up to the beginning of the line.\n",
    "\n",
    "By default, Jinja also removes trailing newlines. To keep single trailing newlines, configure Jinja to keep_trailing_newline.\n",
    "\n",
    "Note\n",
    "You must not add whitespace between the tag and the minus sign.\n",
    "\n",
    "valid:\n",
    "\n",
    "{%- if foo -%}...{% endif %}\n",
    "invalid:\n",
    "\n",
    "{% - if foo - %}...{% endif %}\n",
    "{# include in jinja2 docs https://jinja.palletsprojects.com/en/stable/templates/#include #}\n",
    "------------------------------------------------------------------------\n",
    "{% endraw %}\n",
    "For jypter notenook,\n",
    "\n",
    "Cell Magic Commands:\n",
    "\n",
    "    %%timeit: Measures the execution time of a code cell.\n",
    "    %%writefile: As mentioned, writes the cell's output to a file.\n",
    "    %%bash: Executes Bash shell commands.\n",
    "    %%javascript: Executes JavaScript code.\n",
    "    %%html: Renders HTML directly in the output cell.\n",
    "    %%latex: Renders LaTeX equations.\n",
    "\n",
    "Line Magic Commands (prefixed with %):\n",
    "\n",
    "    %run: Executes a Python script.\n",
    "    %load: Loads code from a file into a cell.\n",
    "    %cd: Changes the working directory.\n",
    "    %ls: Lists files in the current directory.\n",
    "    %who: Lists defined variables.\n",
    "    %whos: Lists defined variables with more details.\n",
    "    %matplotlib inline: Sets up matplotlib to plot inline.\n",
    "\n",
    "To explore all available magic commands, you can use:\n",
    "Python\n",
    "\n",
    "%lsmagic"
   ]
  },
  {
   "cell_type": "code",
   "execution_count": 16,
   "id": "53264101-d070-486b-b2b9-20e4faead03d",
   "metadata": {},
   "outputs": [
    {
     "name": "stdout",
     "output_type": "stream",
     "text": [
      "The Title - \n",
      "What is Dark Energy\n",
      "\n",
      "Right now, dark energy is just the name that astronomers gave to the mysterious \"something\" that is causing the\n",
      " universe to expand at an accelerated rate.\n",
      "\n",
      "Dark energy has been described by some as having the effect of a negative pressure that is pushing space outward. However, we don't know if dark energy has the effect of any type of force at all. There are many ideas floating around about what dark energy could possibly be. Here are four leading explanations for dark energy. Keep in mind that it's possible it's something else entirely.\n",
      "\n",
      "\n",
      "Some scientists think that dark energy is a fundamental, ever-present background energy in space known as vacuum energy, which could be equal to the cosmological constant, a mathematical term in the equations of Einstein's theory of general relativity. Originally, the constant existed to counterbalance gravity, resulting in a static universe. But when Hubble confirmed that the universe was actually expanding, Einstein removed the constant, calling it “my biggest blunder,” according to physicist George Gamow.\n",
      "\n",
      "\n",
      "While this theory has been a popular topic of discussion, scientists investigating this option have calculated how much vacuum energy there should theoretically be in space. They showed that there should either be so much vacuum energy that, at the very beginning, the universe would have expanded outwards so quickly and with so much force that no stars or galaxies could have formed, or… there should be absolutely none. This means that the amount of vacuum energy in the cosmos must be much smaller than it is in these predictions. However, this discrepancy has yet to be solved and has even earned the moniker \"the cosmological constant problem.\"\n",
      "\n",
      "\n",
      "\n",
      "-------------------------------------------------\n",
      "White Spaces in Jinja2 \n",
      "========================\n",
      "You can also strip whitespace in templates by hand. If you add a minus sign (-) to the start or end of a block (e.g. a For tag), a comment, or a variable expression, the whitespaces before or after that block will be removed:\n",
      "\n",
      "{% for item in seq -%}\n",
      "    {{ item }}\n",
      "{%- endfor %}\n",
      "This will yield all elements without whitespace between them. If seq was a list of numbers from 1 to 9, the output would be 123456789.\n",
      "\n",
      "If Line Statements are enabled, they strip leading whitespace automatically up to the beginning of the line.\n",
      "\n",
      "By default, Jinja also removes trailing newlines. To keep single trailing newlines, configure Jinja to keep_trailing_newline.\n",
      "\n",
      "Note\n",
      "You must not add whitespace between the tag and the minus sign.\n",
      "\n",
      "valid:\n",
      "\n",
      "{%- if foo -%}...{% endif %}\n",
      "invalid:\n",
      "\n",
      "{% - if foo - %}...{% endif %}\n",
      "{# include in jinja2 docs https://jinja.palletsprojects.com/en/stable/templates/#include #}\n",
      "------------------------------------------------------------------------\n",
      "\n",
      "For jypter notenook,\n",
      "\n",
      "Cell Magic Commands:\n",
      "\n",
      "    %%timeit: Measures the execution time of a code cell.\n",
      "    %%writefile: As mentioned, writes the cell's output to a file.\n",
      "    %%bash: Executes Bash shell commands.\n",
      "    %%javascript: Executes JavaScript code.\n",
      "    %%html: Renders HTML directly in the output cell.\n",
      "    %%latex: Renders LaTeX equations.\n",
      "\n",
      "Line Magic Commands (prefixed with %):\n",
      "\n",
      "    %run: Executes a Python script.\n",
      "    %load: Loads code from a file into a cell.\n",
      "    %cd: Changes the working directory.\n",
      "    %ls: Lists files in the current directory.\n",
      "    %who: Lists defined variables.\n",
      "    %whos: Lists defined variables with more details.\n",
      "    %matplotlib inline: Sets up matplotlib to plot inline.\n",
      "\n",
      "To explore all available magic commands, you can use:\n",
      "Python\n",
      "\n",
      "%lsmagic \n"
     ]
    }
   ],
   "source": [
    "templateInheritance = env.get_template(\"childTemplate.txt\")\n",
    "\n",
    "content = templateInheritance.render()\n",
    "\n",
    "print(content)"
   ]
  },
  {
   "cell_type": "code",
   "execution_count": null,
   "id": "8ee8f10a-4c49-4b74-afb4-fb52fca93c6b",
   "metadata": {},
   "outputs": [],
   "source": []
  }
 ],
 "metadata": {
  "kernelspec": {
   "display_name": "Python 3 (ipykernel)",
   "language": "python",
   "name": "python3"
  },
  "language_info": {
   "codemirror_mode": {
    "name": "ipython",
    "version": 3
   },
   "file_extension": ".py",
   "mimetype": "text/x-python",
   "name": "python",
   "nbconvert_exporter": "python",
   "pygments_lexer": "ipython3",
   "version": "3.12.6"
  }
 },
 "nbformat": 4,
 "nbformat_minor": 5
}

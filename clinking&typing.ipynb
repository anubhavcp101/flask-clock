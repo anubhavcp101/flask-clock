{
 "cells": [
  {
   "cell_type": "code",
   "execution_count": 2,
   "id": "3ca2ac32-c4a2-41cb-9573-93c23ac27b03",
   "metadata": {},
   "outputs": [
    {
     "name": "stdout",
     "output_type": "stream",
     "text": [
      "Point(x=645, y=407)\n"
     ]
    }
   ],
   "source": [
    "import pyautogui\n",
    "\n",
    "# To get current position of the mouse as x,y coordinate\n",
    "print(pyautogui.position())"
   ]
  },
  {
   "cell_type": "code",
   "execution_count": 3,
   "id": "23cc26a5-54c5-4b04-976d-dccc2f85adde",
   "metadata": {},
   "outputs": [],
   "source": [
    "# To type something use typewrite method of pyautogui\n",
    "pyautogui.click(919,82)\n",
    "pyautogui.typewrite(\"What's the difference between Dark Matter and Dark Energy\")"
   ]
  },
  {
   "cell_type": "code",
   "execution_count": 4,
   "id": "dd10ce7d-fd0d-47e1-baa4-51b37a15b1f3",
   "metadata": {},
   "outputs": [
    {
     "name": "stdout",
     "output_type": "stream",
     "text": [
      "Point(x=746, y=23)\n"
     ]
    }
   ],
   "source": [
    "print(pyautogui.position())"
   ]
  },
  {
   "cell_type": "code",
   "execution_count": 6,
   "id": "698c68b0-e3fb-4aa6-86d1-90e8898bcb5c",
   "metadata": {},
   "outputs": [],
   "source": [
    "# to press enter, in the typewriter method mention enter inside square brackets []. \n",
    "# this go to new tab beside this one and do a simple google search\n",
    "pyautogui.click(746,23)\n",
    "pyautogui.click(919,82)\n",
    "pyautogui.typewrite(\"What's the difference between Dark Matter and Dark Energy\")\n",
    "pyautogui.typewrite([\"enter\"]) # pressing enter key after typing the url "
   ]
  },
  {
   "cell_type": "code",
   "execution_count": 15,
   "id": "e58a4706-a471-4964-98b6-3be41701c924",
   "metadata": {},
   "outputs": [],
   "source": [
    "# This copies the current url\n",
    "pyautogui.click(919,82)\n",
    "pyautogui.keyDown('ctrl')  # Press Ctrl key\n",
    "pyautogui.press('c')  # Press 'c' key\n",
    "pyautogui.keyUp('ctrl')  # Release Ctrl key"
   ]
  },
  {
   "cell_type": "code",
   "execution_count": 21,
   "id": "5d229a7d-58a1-4a66-a3c5-dc114717993f",
   "metadata": {},
   "outputs": [
    {
     "name": "stdout",
     "output_type": "stream",
     "text": [
      "Point(x=650, y=819)\n"
     ]
    }
   ],
   "source": [
    "posCollector = []\n",
    "posCollector.append(pyautogui.position())\n",
    "for point in posCollector:\n",
    "    print(point)"
   ]
  },
  {
   "cell_type": "code",
   "execution_count": null,
   "id": "cfa2c62c-b14b-465c-80cf-af8c8ee7ecfc",
   "metadata": {},
   "outputs": [
    {
     "name": "stdout",
     "output_type": "stream",
     "text": [
      "Point(x=485, y=514)\n",
      "Point(x=485, y=514)\n",
      "Point(x=485, y=514)\n",
      "Point(x=485, y=514)\n",
      "Point(x=874, y=904)\n",
      "Point(x=778, y=34)\n",
      "Point(x=924, y=735)\n"
     ]
    }
   ],
   "source": [
    "from time import sleep\n",
    "pointyCollector =[]\n",
    "while len(pointyCollector)<11:\n",
    "    pointy = pyautogui.position()\n",
    "    pointyCollector.append(pointy)\n",
    "    print(pointy)\n",
    "    sleep(5)"
   ]
  },
  {
   "cell_type": "code",
   "execution_count": 5,
   "id": "cc7dd72b-eeb3-42f3-a97c-df3e9683ca29",
   "metadata": {},
   "outputs": [
    {
     "name": "stdout",
     "output_type": "stream",
     "text": [
      "Point(x=577, y=493)\n"
     ]
    }
   ],
   "source": [
    "for pointy in pointyCollector:\n",
    "    print(pointy)"
   ]
  },
  {
   "cell_type": "code",
   "execution_count": null,
   "id": "27233399-0c02-442f-95ca-2a4c377c8088",
   "metadata": {},
   "outputs": [],
   "source": []
  }
 ],
 "metadata": {
  "kernelspec": {
   "display_name": "Python 3 (ipykernel)",
   "language": "python",
   "name": "python3"
  },
  "language_info": {
   "codemirror_mode": {
    "name": "ipython",
    "version": 3
   },
   "file_extension": ".py",
   "mimetype": "text/x-python",
   "name": "python",
   "nbconvert_exporter": "python",
   "pygments_lexer": "ipython3",
   "version": "3.12.6"
  }
 },
 "nbformat": 4,
 "nbformat_minor": 5
}
